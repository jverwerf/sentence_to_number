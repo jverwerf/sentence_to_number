{
 "cells": [
  {
   "cell_type": "code",
   "execution_count": 167,
   "metadata": {},
   "outputs": [],
   "source": [
    "def sentence_to_number(input_txt):\n",
    "    import sys\n",
    "    with open(input_txt) as f:\n",
    "        temp_input = f.readlines()[0]\n",
    "    list_of_numbers = [\"0\",\"1\",\"2\",\"3\",\"4\",\"5\",\"6\",\"7\",\"8\",\"9\"]\n",
    "    dict_of_numbers = {'0':0, '1':1, '2':2, '3':3, '4':4, '5':5, '6':6, '7':7, '8':8, '9':9}\n",
    "    conv_of_numbers = {1:\"one\", 2:\"two\", 3:\"three\", 4:\"four\", 5:\"five\", 6:\"six\", 7:\"seven\", 8:\"eight\", 9:\"nine\", \n",
    "                       10:\"ten\", 11:\"eleven\", 12:'twelve',13:\"thirteen\",14:\"fourteen\",15:\"fifteen\",16:\"sixteen\",17:\"seventeen\",\n",
    "                      18:\"eigteen\",19:\"nineteen\",20:\"twenty\",30:\"thirty\",40:\"fourty\",50:\"fifty\",60:\"sixty\",70:\"seventy\",\n",
    "                       80:\"eighty\",90:\"ninety\",100:\"hundred\",1000:\"thousand\",1000000:\"million\",1000000000:\"billion\"}\n",
    "    conv_of_str = {\"1\":\"one\", \"2\":\"two\", \"3\":\"three\", \"4\":\"four\", \"5\":\"five\", \"6\":\"six\", \"7\":\"seven\", \"8\":\"eight\", \"9\":\"nine\", \n",
    "                       \"10\":\"ten\", \"11\":\"eleven\", \"12\":'twelve',\"13\":\"thirteen\",\"14\":\"fourteen\",\"15\":\"fifteen\",\"16\":\"sixteen\",\"17\":\"seventeen\",\n",
    "                      \"18\":\"eigteen\",\"19\":\"nineteen\",\"20\":\"twenty\",\"30\":\"thirty\",\"40\":\"fourty\",\"50\":\"fifty\",\"60\":\"sixty\",\"70\":\"seventy\",\n",
    "                       \"80\":\"eighty\",\"90\":\"ninety\"}\n",
    "    \n",
    "    template_for_conv = [1,1,1,1]\n",
    "    template_full_number = ['0','0','0','0','0','0','0','0','0','0','0','0']\n",
    "    \n",
    "    def string_to_number(string):\n",
    "        temp_output_str_to_number = 0\n",
    "        for digit in string:\n",
    "            temp_output_str_to_number = 10 * temp_output_str_to_number + dict_of_numbers[digit]\n",
    "        return temp_output_str_to_number\n",
    "    \n",
    "    def convert_hundred(number):\n",
    "        output_string=''\n",
    "        def tens(number):\n",
    "            string = ''\n",
    "            if string_to_number(number) < 20:\n",
    "                string += conv_of_str[number]\n",
    "            if string_to_number(number) > 20 and string_to_number(number) < 100:\n",
    "                for count, digit in enumerate(reversed(number)):\n",
    "                    temp_digit = dict_of_numbers[digit] * (10**count)\n",
    "                    if temp_digit > 0 and temp_digit < 19:\n",
    "                        string = '-' + conv_of_numbers[temp_digit] + string\n",
    "                    if temp_digit > 19 and temp_digit < 100:\n",
    "                        string = conv_of_numbers[temp_digit] + string\n",
    "            return string\n",
    "        if string_to_number(number) < 99:\n",
    "            output_string += tens(number)\n",
    "        if string_to_number(number) > 99 and string_to_number(number)%100==0:\n",
    "            output_string += conv_of_str[number[0]] + ' hundred'\n",
    "        if string_to_number(number) > 99 and string_to_number(number)%100!=0:\n",
    "            output_string += conv_of_str[number[0]] + ' hundred and ' + tens(number[1:].lstrip('0'))\n",
    "        return output_string\n",
    "\n",
    "    #get int out of string\n",
    "    numbers_str = []\n",
    "    numbers_int = []\n",
    "    numbers_dict = {}\n",
    "    for word in temp_input.split():\n",
    "        for letter in word:\n",
    "            if letter in list_of_numbers:\n",
    "                if word not in numbers_str:\n",
    "                    numbers_str.append(word)\n",
    "    \n",
    "    if len(numbers_str) > 1:\n",
    "        return \"invalid input\"\n",
    "    \n",
    "    for word in numbers_str:\n",
    "        for letter in word:\n",
    "            if letter not in list_of_numbers:\n",
    "                return \"invalid input\"\n",
    "    \n",
    "    for count, digit in enumerate(reversed(numbers_str[0])):\n",
    "        template_full_number[-count-1] = digit\n",
    "    \n",
    "    billions = ''\n",
    "    millions = ''\n",
    "    thousands = ''\n",
    "    hundreds = ''\n",
    "    for number in template_full_number[:3]:\n",
    "        billions += number\n",
    "    for number in template_full_number[3:6]:\n",
    "        millions += number\n",
    "    for number in template_full_number[6:9]:\n",
    "        thousands += number\n",
    "    for number in template_full_number[9:12]:\n",
    "        hundreds += number\n",
    "    list_of_hundred_numbers = [billions.lstrip('0'),millions.lstrip('0'),thousands.lstrip('0'),hundreds.lstrip('0')]\n",
    "    \n",
    "    output_string = ''\n",
    "    if list_of_hundred_numbers[0] != '':\n",
    "        output_string+= convert_hundred(list_of_hundred_numbers[0]) + ' billion, '\n",
    "    if list_of_hundred_numbers[1] != '':\n",
    "        output_string+= convert_hundred(list_of_hundred_numbers[1]) + ' million, '\n",
    "    if list_of_hundred_numbers[2] != '':\n",
    "        output_string+= convert_hundred(list_of_hundred_numbers[2]) + ' thousand, '\n",
    "    if list_of_hundred_numbers[3] != '':\n",
    "        if len(list_of_hundred_numbers[3])<3:\n",
    "            output_string = output_string[:-2]\n",
    "            output_string+=' and '\n",
    "        output_string+= convert_hundred(list_of_hundred_numbers[3])\n",
    "    sys.stdout.write(output_string)"
   ]
  },
  {
   "cell_type": "code",
   "execution_count": 168,
   "metadata": {
    "scrolled": true
   },
   "outputs": [
    {
     "name": "stdout",
     "output_type": "stream",
     "text": [
      "five hundred and thirty-six"
     ]
    }
   ],
   "source": [
    "sentence_to_number('Input.txt')"
   ]
  },
  {
   "cell_type": "code",
   "execution_count": null,
   "metadata": {},
   "outputs": [],
   "source": []
  }
 ],
 "metadata": {
  "kernelspec": {
   "display_name": "Python 3",
   "language": "python",
   "name": "python3"
  },
  "language_info": {
   "codemirror_mode": {
    "name": "ipython",
    "version": 3
   },
   "file_extension": ".py",
   "mimetype": "text/x-python",
   "name": "python",
   "nbconvert_exporter": "python",
   "pygments_lexer": "ipython3",
   "version": "3.6.4"
  }
 },
 "nbformat": 4,
 "nbformat_minor": 2
}
